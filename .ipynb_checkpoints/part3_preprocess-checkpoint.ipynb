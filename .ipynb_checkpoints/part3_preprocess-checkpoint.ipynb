{
 "cells": [
  {
   "cell_type": "code",
   "execution_count": 1,
   "metadata": {},
   "outputs": [
    {
     "name": "stdout",
     "output_type": "stream",
     "text": [
      "Extracting /tmp/data/train-images-idx3-ubyte.gz\n",
      "Extracting /tmp/data/train-labels-idx1-ubyte.gz\n",
      "Extracting /tmp/data/t10k-images-idx3-ubyte.gz\n",
      "Extracting /tmp/data/t10k-labels-idx1-ubyte.gz\n"
     ]
    }
   ],
   "source": [
    "import tensorflow as tf\n",
    "import numpy as np\n",
    "import os\n",
    "\n",
    "# Import MNIST data\n",
    "from tensorflow.examples.tutorials.mnist import input_data\n",
    "mnist = input_data.read_data_sets(\"/tmp/data/\", one_hot=True)"
   ]
  },
  {
   "cell_type": "code",
   "execution_count": 2,
   "metadata": {
    "collapsed": true
   },
   "outputs": [],
   "source": [
    "# Parameters\n",
    "learning_rate = 0.001\n",
    "training_epochs = 20\n",
    "batch_size = 100\n",
    "display_step = 1\n",
    "\n",
    "\n",
    "# tf Graph Input\n",
    "x = tf.placeholder(tf.float32, [None, 784]) # mnist data image of shape 28*28=784\n",
    "y = tf.placeholder(tf.float32, [None, 10]) # 0-9 digits recognition => 10 classes\n",
    "# grads = tf.placeholder(tf.float32, [None, 784])\n",
    "\n",
    "# Set model weights\n",
    "W1 = tf.Variable(tf.random_normal([784, 300], mean=0, stddev=1))\n",
    "b1 = tf.Variable(tf.random_normal([300], mean=0, stddev = 1))\n",
    "\n",
    "# #W2 = tf.Variable(tf.random_normal([300, 100], mean=0, stddev= 1))\n",
    "# #b2 = tf.Variable(tf.random_normal([100], mean=0, stddev= 1))\n",
    "\n",
    "W3 = tf.Variable(tf.zeros([300, 10]))\n",
    "b3 = tf.Variable(tf.zeros([10]))\n",
    "\n",
    "# Construct model\n",
    "\n",
    "hidden1 = tf.nn.relu(tf.matmul(x, W1) + b1); #first hidden layer\n",
    "\n",
    "#hidden2 = tf.nn.relu(tf.matmul(hidden1, W2) + b2); #second hidden layer\n",
    "\n",
    "pred = tf.nn.softmax(tf.matmul(hidden1, W3) + b3) # Softmax layer outputs prediction probabilities\n",
    "\n",
    "# Minimize error using cross entropy \n",
    "cost = tf.reduce_mean(-tf.reduce_sum(y*tf.log(pred), reduction_indices=1))\n",
    "\n",
    "optimizer = tf.train.GradientDescentOptimizer(learning_rate).minimize(cost)\n",
    "\n"
   ]
  },
  {
   "cell_type": "code",
   "execution_count": 3,
   "metadata": {
    "collapsed": true
   },
   "outputs": [],
   "source": [
    "yt = mnist.test.labels\n",
    "xt = mnist.test.images"
   ]
  },
  {
   "cell_type": "code",
   "execution_count": 4,
   "metadata": {
    "collapsed": true
   },
   "outputs": [],
   "source": [
    "# grad_W, grad_b = tf.gradients(xs=[W1, b1], ys=cost)\n",
    "eps = [1, 5, 10, 20, 30, 40, 50]\n",
    "grad_x = tf.gradients(xs=x, ys=cost)\n",
    "\n",
    "x_prime1 = tf.clip_by_value(x + eps[0] * tf.sign(grad_x)/256,0,1)\n",
    "x_prime5 = tf.clip_by_value(x + eps[1] * tf.sign(grad_x)/256,0,1)\n",
    "x_prime10 = tf.clip_by_value(x + eps[2] * tf.sign(grad_x)/256,0,1)\n",
    "x_prime20 = tf.clip_by_value(x + eps[3] * tf.sign(grad_x)/256,0,1)\n",
    "x_prime30 = tf.clip_by_value(x + eps[4] * tf.sign(grad_x)/256,0,1)\n",
    "x_prime40 = tf.clip_by_value(x + eps[5] * tf.sign(grad_x)/256,0,1)\n",
    "x_prime50 = tf.clip_by_value(x + eps[6] * tf.sign(grad_x)/256,0,1)\n",
    "x_prime = (x + tf.sign(grad_x)/256)\n",
    "new_W = W1.assign(W1 - tf.sign(grad_W))\n",
    "new_b = b1.assign(b1 - tf.sign(grad_b))"
   ]
  },
  {
   "cell_type": "code",
   "execution_count": 6,
   "metadata": {
    "collapsed": true
   },
   "outputs": [],
   "source": [
    "saver = tf.train.Saver()"
   ]
  },
  {
   "cell_type": "code",
   "execution_count": 8,
   "metadata": {},
   "outputs": [
    {
     "name": "stdout",
     "output_type": "stream",
     "text": [
      "INFO:tensorflow:Restoring parameters from ./checkpoints/trained_model.ckpt\n",
      "Model restored.\n"
     ]
    }
   ],
   "source": [
    "# Start training\n",
    "with tf.Session() as sess:\n",
    "    \n",
    "    saver.restore(sess, \"./checkpoints/trained_model.ckpt\")\n",
    "    print(\"Model restored.\")\n",
    "\n",
    "    \n",
    "#     sess.run(tf.global_variables_initializer())\n",
    "#         # Fit training using batch data\n",
    "    a1, b1 = sess.run([x_prime1 ,cost], feed_dict={x: xt, y: yt})\n",
    "    a5, b5 = sess.run([x_prime5 ,cost], feed_dict={x: xt, y: yt})\n",
    "    a10, b10 = sess.run([x_prime10 ,cost], feed_dict={x: xt, y: yt})\n",
    "    a20, b20 = sess.run([x_prime20 ,cost], feed_dict={x: xt, y: yt})\n",
    "    a30, b30 = sess.run([x_prime30 ,cost], feed_dict={x: xt, y: yt})\n",
    "    a40, b40 = sess.run([x_prime40 ,cost], feed_dict={x: xt, y: yt})\n",
    "    a50, b50 = sess.run([x_prime50 ,cost], feed_dict={x: xt, y: yt})\n",
    "    \n"
   ]
  },
  {
   "cell_type": "code",
   "execution_count": 9,
   "metadata": {
    "collapsed": true
   },
   "outputs": [],
   "source": [
    "# x_new1 = a1[0,:,:]\n",
    "# x_new5 = a5[0,:,:]\n",
    "# x_new10 = a10[0,:,:]\n",
    "# x_new20 = a20[0,:,:]\n",
    "# x_new30 = a30[0,:,:]\n",
    "# x_new40 = a40[0,:,:]\n",
    "# x_new50 = a50[0,:,:]\n",
    "\n",
    "# np.save('./checkpoints/x_new1', x_new1)\n",
    "# np.save('./checkpoints/x_new5', x_new5)\n",
    "# np.save('./checkpoints/x_new10', x_new10)\n",
    "# np.save('./checkpoints/x_new20', x_new20)\n",
    "# np.save('./checkpoints/x_new30', x_new30)\n",
    "# np.save('./checkpoints/x_new40', x_new40)\n",
    "# np.save('./checkpoints/x_new50', x_new50)"
   ]
  },
  {
   "cell_type": "code",
   "execution_count": 10,
   "metadata": {
    "collapsed": true
   },
   "outputs": [],
   "source": [
    "# type(sub)\n",
    "def attack_success_rate(xts, xts_new, yts):\n",
    "        # Result of old test data\n",
    "        prediction_old = tf.argmax(pred,1)\n",
    "        prediction_old = prediction_old.eval({x: xts})    \n",
    "        \n",
    "        correct_prediction = tf.equal(prediction_old, tf.argmax(yts, 1))\n",
    "        correct_prediction = correct_prediction.eval({x: xts})\n",
    "        \n",
    "        correct_prediction_index = np.where(correct_prediction)\n",
    "        \n",
    "        xts_correct = xts_new[correct_prediction_index,:]\n",
    "        xts_correct = xts_correct[0,:,:]\n",
    "        \n",
    "        correct_prediction = correct_prediction[correct_prediction_index]\n",
    "        prediction_old = prediction_old[correct_prediction_index]\n",
    "        \n",
    "        # Result of new test data\n",
    "        prediction_new = tf.argmax(pred,1)\n",
    "        prediction_new = prediction_new.eval({x:xts_correct})\n",
    "        \n",
    "        # Vind out which index of correct_predictions are changed after perturb\n",
    "        attack_success_index = np.not_equal(prediction_old, prediction_new)\n",
    "        \n",
    "        # Calculate attack ratio\n",
    "        attack_success_no = np.count_nonzero(attack_success_index)\n",
    "        correct_prediction_no = np.count_nonzero(correct_prediction)\n",
    "        \n",
    "        attack_success_rate = attack_success_no/correct_prediction_no\n",
    "        \n",
    "        return attack_success_rate"
   ]
  },
  {
   "cell_type": "code",
   "execution_count": 29,
   "metadata": {},
   "outputs": [
    {
     "name": "stdout",
     "output_type": "stream",
     "text": [
      "INFO:tensorflow:Restoring parameters from ./checkpoints/trained_model.ckpt\n",
      "Model restored.\n"
     ]
    },
    {
     "ename": "NameError",
     "evalue": "name 'eps_current' is not defined",
     "output_type": "error",
     "traceback": [
      "\u001b[0;31m---------------------------------------------------------------------------\u001b[0m",
      "\u001b[0;31mNameError\u001b[0m                                 Traceback (most recent call last)",
      "\u001b[0;32m<ipython-input-29-a684e9db175e>\u001b[0m in \u001b[0;36m<module>\u001b[0;34m()\u001b[0m\n\u001b[1;32m     12\u001b[0m     \u001b[0maccuracy\u001b[0m \u001b[0;34m=\u001b[0m \u001b[0mtf\u001b[0m\u001b[0;34m.\u001b[0m\u001b[0mreduce_mean\u001b[0m\u001b[0;34m(\u001b[0m\u001b[0mtf\u001b[0m\u001b[0;34m.\u001b[0m\u001b[0mcast\u001b[0m\u001b[0;34m(\u001b[0m\u001b[0mcorrect_prediction\u001b[0m\u001b[0;34m,\u001b[0m \u001b[0mtf\u001b[0m\u001b[0;34m.\u001b[0m\u001b[0mfloat32\u001b[0m\u001b[0;34m)\u001b[0m\u001b[0;34m)\u001b[0m\u001b[0;34m\u001b[0m\u001b[0m\n\u001b[1;32m     13\u001b[0m \u001b[0;34m\u001b[0m\u001b[0m\n\u001b[0;32m---> 14\u001b[0;31m     \u001b[0;32mif\u001b[0m \u001b[0meps_current\u001b[0m \u001b[0;34m==\u001b[0m \u001b[0;36m1\u001b[0m\u001b[0;34m:\u001b[0m\u001b[0;34m\u001b[0m\u001b[0m\n\u001b[0m\u001b[1;32m     15\u001b[0m         print (\"Eps=1:\\t Accuracy:\", \"{:10.4f}\".format(accuracy.eval({x: x_new1[:3000], y: yt[:3000]})), \n\u001b[1;32m     16\u001b[0m                \"\\t Attack Success Rate:\\t\", attack_success_rate(xt,x_new1,yt))\n",
      "\u001b[0;31mNameError\u001b[0m: name 'eps_current' is not defined"
     ]
    }
   ],
   "source": [
    "with tf.Session() as sess:\n",
    "    \n",
    "    saver.restore(sess, \"./checkpoints/trained_model.ckpt\")\n",
    "    print(\"Model restored.\")\n",
    "\n",
    "    correct_prediction = tf.equal(tf.argmax(pred, 1), tf.argmax(y, 1))\n",
    "    accuracy = tf.reduce_mean(tf.cast(correct_prediction, tf.float32))\n",
    "    \n",
    "    if eps_current == 1:\n",
    "        print (\"Eps=1:\\t Accuracy:\", \"{:10.4f}\".format(accuracy.eval({x: x_new1[:3000], y: yt[:3000]})), \n",
    "               \"\\t Attack Success Rate:\\t\", attack_success_rate(xt,x_new1,yt))\n",
    "    if eps_current == 5:\n",
    "        print (\"Eps=5:\\t Accuracy:\", \"{:10.4f}\".format(accuracy.eval({x: x_new5[:3000], y: yt[:3000]})),\n",
    "               \"\\t Attack Success Rate:\\t\", attack_success_rate(xt,x_new5,yt))\n",
    "    if eps_current == 10:\n",
    "        print (\"Eps=10:\\t Accuracy:\", \"{:10.4f}\".format(accuracy.eval({x: x_new10[:3000], y: yt[:3000]})),\n",
    "               \"\\t Attack Success Rate:\\t\", attack_success_rate(xt,x_new10,yt))\n",
    "    if eps_current == 20:\n",
    "        print (\"Eps=20:\\t Accuracy:\", \"{:10.4f}\".format(accuracy.eval({x: x_new20[:3000], y: yt[:3000]})),\n",
    "               \"\\t Attack Success Rate:\\t\", attack_success_rate(xt,x_new20,yt))\n",
    "    if eps_current == 30:\n",
    "        print (\"Eps=30:\\t Accuracy:\", \"{:10.4f}\".format(accuracy.eval({x: x_new30[:3000], y: yt[:3000]})),\n",
    "               \"\\t Attack Success Rate:\\t\", attack_success_rate(xt,x_new10,yt))\n",
    "    if eps_current == 40:\n",
    "        print (\"Eps=40:\\t Accuracy:\", \"{:10.4f}\".format(accuracy.eval({x: x_new40[:3000], y: yt[:3000]})),\n",
    "               \"\\t Attack Success Rate:\\t\", attack_success_rate(xt,x_new10,yt))\n",
    "    if eps_current == 50:\n",
    "        print (\"Eps=50:\\t Accuracy:\", \"{:10.4f}\".format(accuracy.eval({x: x_new50[:3000], y: yt[:3000]})),\n",
    "               \"\\t Attack Success Rate:\\t\", attack_success_rate(xt,x_new10,yt))"
   ]
  },
  {
   "cell_type": "code",
   "execution_count": 33,
   "metadata": {},
   "outputs": [
    {
     "name": "stdout",
     "output_type": "stream",
     "text": [
      "Saving images\n"
     ]
    }
   ],
   "source": [
    "# convert image array to png file\n",
    "import matplotlib.pyplot as plt\n",
    "print(\"Saving images\")\n",
    "for i in range (0,100):\n",
    "    plt.imsave('./images/part1/'+str(i)+'.png', x_new1[i].reshape((28,28)))"
   ]
  },
  {
   "cell_type": "code",
   "execution_count": 30,
   "metadata": {},
   "outputs": [
    {
     "name": "stdout",
     "output_type": "stream",
     "text": [
      "(10000, 784)\n"
     ]
    }
   ],
   "source": [
    "print(np.shape(x_new1))"
   ]
  },
  {
   "cell_type": "code",
   "execution_count": null,
   "metadata": {
    "collapsed": true
   },
   "outputs": [],
   "source": []
  }
 ],
 "metadata": {
  "kernelspec": {
   "display_name": "Python 3",
   "language": "python",
   "name": "python3"
  },
  "language_info": {
   "codemirror_mode": {
    "name": "ipython",
    "version": 3
   },
   "file_extension": ".py",
   "mimetype": "text/x-python",
   "name": "python",
   "nbconvert_exporter": "python",
   "pygments_lexer": "ipython3",
   "version": "3.6.1"
  }
 },
 "nbformat": 4,
 "nbformat_minor": 2
}
