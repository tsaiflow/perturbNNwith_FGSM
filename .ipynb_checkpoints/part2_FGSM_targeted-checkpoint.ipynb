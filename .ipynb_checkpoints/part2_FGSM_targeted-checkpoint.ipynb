{
 "cells": [
  {
   "cell_type": "code",
   "execution_count": 1,
   "metadata": {},
   "outputs": [
    {
     "name": "stdout",
     "output_type": "stream",
     "text": [
      "Extracting /tmp/data/train-images-idx3-ubyte.gz\n",
      "Extracting /tmp/data/train-labels-idx1-ubyte.gz\n",
      "Extracting /tmp/data/t10k-images-idx3-ubyte.gz\n",
      "Extracting /tmp/data/t10k-labels-idx1-ubyte.gz\n"
     ]
    }
   ],
   "source": [
    "import tensorflow as tf\n",
    "import numpy as np\n",
    "import os\n",
    "\n",
    "# Import MNIST data\n",
    "from tensorflow.examples.tutorials.mnist import input_data\n",
    "mnist = input_data.read_data_sets(\"/tmp/data/\", one_hot=True)"
   ]
  },
  {
   "cell_type": "code",
   "execution_count": 2,
   "metadata": {
    "collapsed": true
   },
   "outputs": [],
   "source": [
    "# Parameters\n",
    "learning_rate = 0.001\n",
    "training_epochs = 20\n",
    "batch_size = 100\n",
    "display_step = 1\n",
    "\n",
    "\n",
    "# tf Graph Input\n",
    "x = tf.placeholder(tf.float32, [None, 784]) # mnist data image of shape 28*28=784\n",
    "y = tf.placeholder(tf.float32, [None, 10]) # 0-9 digits recognition => 10 classes\n",
    "# grads = tf.placeholder(tf.float32, [None, 784])\n",
    "\n",
    "# Set model weights\n",
    "W1 = tf.Variable(tf.random_normal([784, 300], mean=0, stddev=1))\n",
    "b1 = tf.Variable(tf.random_normal([300], mean=0, stddev = 1))\n",
    "\n",
    "# #W2 = tf.Variable(tf.random_normal([300, 100], mean=0, stddev= 1))\n",
    "# #b2 = tf.Variable(tf.random_normal([100], mean=0, stddev= 1))\n",
    "\n",
    "W3 = tf.Variable(tf.zeros([300, 10]))\n",
    "b3 = tf.Variable(tf.zeros([10]))\n",
    "\n",
    "# Construct model\n",
    "\n",
    "hidden1 = tf.nn.relu(tf.matmul(x, W1) + b1); #first hidden layer\n",
    "\n",
    "#hidden2 = tf.nn.relu(tf.matmul(hidden1, W2) + b2); #second hidden layer\n",
    "\n",
    "pred = tf.nn.softmax(tf.matmul(hidden1, W3) + b3) # Softmax layer outputs prediction probabilities\n",
    "\n",
    "# Minimize error using cross entropy \n",
    "cost = tf.reduce_mean(-tf.reduce_sum(y*tf.log(pred), reduction_indices=1))\n",
    "\n",
    "optimizer = tf.train.GradientDescentOptimizer(learning_rate).minimize(cost)\n",
    "\n"
   ]
  },
  {
   "cell_type": "code",
   "execution_count": 3,
   "metadata": {
    "collapsed": true
   },
   "outputs": [],
   "source": [
    "yt = mnist.test.labels\n",
    "xt = mnist.test.images"
   ]
  },
  {
   "cell_type": "code",
   "execution_count": 4,
   "metadata": {},
   "outputs": [
    {
     "name": "stdout",
     "output_type": "stream",
     "text": [
      "[[ 0.  0.  0.  0.  0.  0.  0.  1.  0.  0.]\n",
      " [ 0.  0.  1.  0.  0.  0.  0.  0.  0.  0.]\n",
      " [ 0.  1.  0.  0.  0.  0.  0.  0.  0.  0.]\n",
      " [ 1.  0.  0.  0.  0.  0.  0.  0.  0.  0.]\n",
      " [ 0.  0.  0.  0.  1.  0.  0.  0.  0.  0.]\n",
      " [ 0.  1.  0.  0.  0.  0.  0.  0.  0.  0.]\n",
      " [ 0.  0.  0.  0.  1.  0.  0.  0.  0.  0.]\n",
      " [ 0.  0.  0.  0.  0.  0.  0.  0.  0.  1.]\n",
      " [ 0.  0.  0.  0.  0.  1.  0.  0.  0.  0.]\n",
      " [ 0.  0.  0.  0.  0.  0.  0.  0.  0.  1.]]\n"
     ]
    }
   ],
   "source": [
    "print((yt[:10]))"
   ]
  },
  {
   "cell_type": "code",
   "execution_count": null,
   "metadata": {},
   "outputs": [],
   "source": []
  },
  {
   "cell_type": "code",
   "execution_count": 5,
   "metadata": {},
   "outputs": [],
   "source": [
    "def shift(l, n):\n",
    "    return l[-1:] + l[:-1]\n",
    "\n",
    "yt_shifted = np.empty_like(yt)\n",
    "\n",
    "for i in range (np.shape(yt)[0]):\n",
    "    yt_shifted[i, :] = (shift(yt[i,:].tolist(),1))"
   ]
  },
  {
   "cell_type": "code",
   "execution_count": 6,
   "metadata": {},
   "outputs": [],
   "source": [
    "# # yt_ = np.empty_like(yt)\n",
    "# for i in range(0,np.shape(yt)[0]):\n",
    "#     for j in range(0,np.shape(yt)[1]):\n",
    "#         if yt[i][j] == 0:\n",
    "#             continue\n",
    "#         else:\n",
    "#             yt[i][j] = 0\n",
    "#             yt[i][(j+1)%10] = 1\n",
    "#             break"
   ]
  },
  {
   "cell_type": "code",
   "execution_count": 7,
   "metadata": {
    "collapsed": true
   },
   "outputs": [],
   "source": [
    "# grad_W, grad_b = tf.gradients(xs=[W1, b1], ys=cost)\n",
    "eps = [1, 5, 10, 20, 30, 40, 50]\n",
    "grad_x = tf.gradients(xs=x, ys=cost)\n",
    "\n",
    "x_prime1 = tf.clip_by_value(x - eps[0] * tf.sign(grad_x)/256,0,1)\n",
    "x_prime5 = tf.clip_by_value(x - eps[1] * tf.sign(grad_x)/256,0,1)\n",
    "x_prime10 = tf.clip_by_value(x - eps[2] * tf.sign(grad_x)/256,0,1)\n",
    "x_prime20 = tf.clip_by_value(x - eps[3] * tf.sign(grad_x)/256,0,1)\n",
    "x_prime30 = tf.clip_by_value(x - eps[4] * tf.sign(grad_x)/256,0,1)\n",
    "x_prime40 = tf.clip_by_value(x - eps[5] * tf.sign(grad_x)/256,0,1)\n",
    "x_prime50 = tf.clip_by_value(x - eps[6] * tf.sign(grad_x)/256,0,1)\n",
    "# x_prime = (x + tf.sign(grad_x)/256)\n",
    "# new_W = W1.assign(W1 - tf.sign(grad_W))\n",
    "# new_b = b1.assign(b1 - tf.sign(grad_b))"
   ]
  },
  {
   "cell_type": "code",
   "execution_count": 8,
   "metadata": {},
   "outputs": [],
   "source": [
    "# print(type(x_prime))"
   ]
  },
  {
   "cell_type": "code",
   "execution_count": 9,
   "metadata": {
    "collapsed": true
   },
   "outputs": [],
   "source": [
    "saver = tf.train.Saver()"
   ]
  },
  {
   "cell_type": "code",
   "execution_count": 10,
   "metadata": {
    "collapsed": true
   },
   "outputs": [],
   "source": [
    "# np.shape(a)"
   ]
  },
  {
   "cell_type": "code",
   "execution_count": 11,
   "metadata": {},
   "outputs": [
    {
     "name": "stdout",
     "output_type": "stream",
     "text": [
      "INFO:tensorflow:Restoring parameters from /tmp/trained_model.ckpt\n",
      "Model restored.\n"
     ]
    }
   ],
   "source": [
    "# Start training\n",
    "with tf.Session() as sess:\n",
    "    \n",
    "    saver.restore(sess, \"/tmp/trained_model.ckpt\")\n",
    "    print(\"Model restored.\")\n",
    "\n",
    "    \n",
    "#     sess.run(tf.global_variables_initializer())\n",
    "#         # Fit training using batch data\n",
    "    a1, b1 = sess.run([x_prime1 ,cost], feed_dict={x: xt, y: yt_shifted})\n",
    "    a5, b5 = sess.run([x_prime5 ,cost], feed_dict={x: xt, y: yt_shifted})\n",
    "    a10, b10 = sess.run([x_prime10 ,cost], feed_dict={x: xt, y: yt_shifted})\n",
    "    a20, b20 = sess.run([x_prime20 ,cost], feed_dict={x: xt, y: yt_shifted})\n",
    "    a30, b30 = sess.run([x_prime30 ,cost], feed_dict={x: xt, y: yt_shifted})\n",
    "    a40, b40 = sess.run([x_prime40 ,cost], feed_dict={x: xt, y: yt_shifted})\n",
    "    a50, b50 = sess.run([x_prime50 ,cost], feed_dict={x: xt, y: yt_shifted})\n",
    "    \n"
   ]
  },
  {
   "cell_type": "code",
   "execution_count": 12,
   "metadata": {},
   "outputs": [],
   "source": [
    "# a5"
   ]
  },
  {
   "cell_type": "code",
   "execution_count": 13,
   "metadata": {
    "collapsed": true
   },
   "outputs": [],
   "source": [
    "# np.savetxt('test2.txt', a[0,:,:], delimiter=',', fmt='%.4f')"
   ]
  },
  {
   "cell_type": "code",
   "execution_count": 14,
   "metadata": {
    "collapsed": true
   },
   "outputs": [],
   "source": [
    "x_new1 = a1[0,:,:]\n",
    "x_new5 = a5[0,:,:]\n",
    "x_new10 = a10[0,:,:]\n",
    "x_new20 = a20[0,:,:]\n",
    "x_new30 = a30[0,:,:]\n",
    "x_new40 = a40[0,:,:]\n",
    "x_new50 = a50[0,:,:]"
   ]
  },
  {
   "cell_type": "code",
   "execution_count": 15,
   "metadata": {
    "collapsed": true
   },
   "outputs": [],
   "source": [
    "# sub = xt-x_new\n",
    "# np.savetxt('output_diff2.txt', sub, delimiter=',', fmt='%.3f')"
   ]
  },
  {
   "cell_type": "code",
   "execution_count": 16,
   "metadata": {
    "collapsed": true
   },
   "outputs": [],
   "source": [
    "# type(sub)"
   ]
  },
  {
   "cell_type": "code",
   "execution_count": 19,
   "metadata": {},
   "outputs": [
    {
     "name": "stdout",
     "output_type": "stream",
     "text": [
      "INFO:tensorflow:Restoring parameters from /tmp/trained_model.ckpt\n",
      "Model restored.\n",
      "Accuracy of eps=1: 0.9263\n",
      "Accuracy of eps=5: 0.8723\n",
      "Accuracy of eps=10: 0.5995\n",
      "Accuracy of eps=20: 0.0866\n",
      "Accuracy of eps=30: 0.0053\n",
      "Accuracy of eps=40: 0.0\n",
      "Accuracy of eps=50: 0.0\n"
     ]
    }
   ],
   "source": [
    "with tf.Session() as sess:\n",
    "    \n",
    "    saver.restore(sess, \"/tmp/trained_model.ckpt\")\n",
    "    print(\"Model restored.\")\n",
    "\n",
    "#     sess.run(tf.global_variables_initializer())\n",
    "\n",
    "# Test model\n",
    "    correct_prediction = tf.equal(tf.argmax(pred, 1), tf.argmax(y, 1))\n",
    "    \n",
    "    # Calculate accuracy for 3000 examples; you should get roughly ~90% accuracy although it might vary from run to run\n",
    "    accuracy = tf.reduce_mean(tf.cast(correct_prediction, tf.float32))\n",
    "    print (\"Accuracy of eps=1:\", accuracy.eval({x: x_new1, y: yt}))\n",
    "    print (\"Accuracy of eps=5:\", accuracy.eval({x: x_new5, y: yt}))\n",
    "    print (\"Accuracy of eps=10:\", accuracy.eval({x: x_new10, y: yt}))\n",
    "    print (\"Accuracy of eps=20:\", accuracy.eval({x: x_new20, y: yt}))\n",
    "    print (\"Accuracy of eps=30:\", accuracy.eval({x: x_new30, y: yt}))\n",
    "    print (\"Accuracy of eps=40:\", accuracy.eval({x: x_new40, y: yt}))\n",
    "    print (\"Accuracy of eps=50:\", accuracy.eval({x: x_new50, y: yt}))\n",
    "    "
   ]
  },
  {
   "cell_type": "code",
   "execution_count": null,
   "metadata": {
    "collapsed": true
   },
   "outputs": [],
   "source": [
    "%matplotlib inline\n",
    "import matplotlib.pyplot as plt\n",
    "\n",
    "def plot_example_errors():\n",
    "    # Use TensorFlow to get a list of boolean values\n",
    "    # whether each test-image has been correctly classified,\n",
    "    # and a list for the predicted class of each image.\n",
    "    correct, cls_pred = sess.run([correct_prediction, y_pred_cls],\n",
    "                                    feed_dict=feed_dict_test)\n",
    "\n",
    "    # Negate the boolean array.\n",
    "    incorrect = (correct == False)\n",
    "    \n",
    "    # Get the images from the test-set that have been\n",
    "    # incorrectly classified.\n",
    "    images = mnist.test.images[incorrect]\n",
    "    \n",
    "    # Get the predicted classes for those images.\n",
    "    cls_pred = cls_pred[incorrect]\n",
    "\n",
    "    # Get the true classes for those images.\n",
    "    cls_true = mnist.test.cls[incorrect]\n",
    "    \n",
    "    # Plot the first 9 images.\n",
    "    plot_images(images=images[0:9],\n",
    "                cls_true=cls_true[0:9],\n",
    "                cls_pred=cls_pred[0:9])"
   ]
  },
  {
   "cell_type": "code",
   "execution_count": null,
   "metadata": {
    "collapsed": true
   },
   "outputs": [],
   "source": [
    "def plot_images(images, cls_true, cls_pred=None):\n",
    "    assert len(images) == len(cls_true) == 9\n",
    "    \n",
    "    # Create figure with 3x3 sub-plots.\n",
    "    fig, axes = plt.subplots(3, 3)\n",
    "    fig.subplots_adjust(hspace=0.3, wspace=0.3)\n",
    "\n",
    "    for i, ax in enumerate(axes.flat):\n",
    "        # Plot image.\n",
    "        ax.imshow(images[i].reshape(img_shape), cmap='binary')\n",
    "\n",
    "        # Show true and predicted classes.\n",
    "        if cls_pred is None:\n",
    "            xlabel = \"True: {0}\".format(cls_true[i])\n",
    "        else:\n",
    "            xlabel = \"True: {0}, Pred: {1}\".format(cls_true[i], cls_pred[i])\n",
    "\n",
    "        ax.set_xlabel(xlabel)\n",
    "        \n",
    "        # Remove ticks from the plot.\n",
    "        ax.set_xticks([])\n",
    "        ax.set_yticks([])"
   ]
  },
  {
   "cell_type": "code",
   "execution_count": null,
   "metadata": {
    "collapsed": true
   },
   "outputs": [],
   "source": [
    "img_size = 28\n",
    "\n",
    "# Images are stored in one-dimensional arrays of this length.\n",
    "img_size_flat = img_size * img_size\n",
    "\n",
    "# Tuple with height and width of images used to reshape arrays.\n",
    "img_shape = (img_size, img_size)\n"
   ]
  },
  {
   "cell_type": "code",
   "execution_count": null,
   "metadata": {
    "collapsed": true
   },
   "outputs": [],
   "source": [
    "y_true_cls = tf.placeholder(tf.int64, [None])\n",
    "mnist.test.cls = np.array([label.argmax() for label in mnist.test.labels])"
   ]
  },
  {
   "cell_type": "code",
   "execution_count": null,
   "metadata": {},
   "outputs": [],
   "source": [
    "with tf.Session() as sess:\n",
    "    saver.restore(sess, \"/tmp/trained_model.ckpt\")\n",
    "    y_pred_cls = tf.argmax(pred, dimension=1)\n",
    "    \n",
    "    feed_dict_test = {x: xt,\n",
    "                  y: mnist.test.labels,\n",
    "                  y_true_cls: mnist.test.cls}\n",
    "    \n",
    "    plot_example_errors()\n",
    "    \n",
    "    # Test model\n",
    "    correct_prediction = tf.equal(tf.argmax(pred, 1), tf.argmax(y, 1))\n",
    "    \n",
    "    # Calculate accuracy for 3000 examples; you should get roughly ~90% accuracy although it might vary from run to run\n",
    "    accuracy = tf.reduce_mean(tf.cast(correct_prediction, tf.float32))\n",
    "    print (\"Accuracy of eps=1:\", accuracy.eval({x: x_new30, y: yt}))"
   ]
  },
  {
   "cell_type": "code",
   "execution_count": null,
   "metadata": {
    "collapsed": true
   },
   "outputs": [],
   "source": []
  }
 ],
 "metadata": {
  "kernelspec": {
   "display_name": "Python 3",
   "language": "python",
   "name": "python3"
  },
  "language_info": {
   "codemirror_mode": {
    "name": "ipython",
    "version": 3
   },
   "file_extension": ".py",
   "mimetype": "text/x-python",
   "name": "python",
   "nbconvert_exporter": "python",
   "pygments_lexer": "ipython3",
   "version": "3.6.1"
  }
 },
 "nbformat": 4,
 "nbformat_minor": 2
}
